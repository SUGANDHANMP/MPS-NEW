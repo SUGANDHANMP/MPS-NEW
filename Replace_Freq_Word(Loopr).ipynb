{
 "cells": [
  {
   "cell_type": "code",
   "execution_count": 1,
   "id": "9ec5af6c",
   "metadata": {
    "scrolled": false
   },
   "outputs": [],
   "source": [
    "file=open(\"Sample.txt\",\"r\")\n",
    "x=[file.read()]\n",
    "file.close()"
   ]
  },
  {
   "cell_type": "code",
   "execution_count": 2,
   "id": "765d51cc",
   "metadata": {},
   "outputs": [
    {
     "name": "stdout",
     "output_type": "stream",
     "text": [
      "MOST REPEATED WORD:\n",
      " ('sed', 33180)\n"
     ]
    }
   ],
   "source": [
    "import collections\n",
    "from collections import Counter\n",
    "cnt = collections.Counter([word.lower() or word.upper()+\".\" for sentence in x for word in sentence.split()])\n",
    "a=cnt.most_common(10)[0]\n",
    "print(\"MOST REPEATED WORD:\\n\",a)\n",
    "freq_word=list(a)[0]\n",
    "y=x[0].replace(\" \"+freq_word+\" \",\" loopr \")\n",
    "y=y.replace(\" \"+freq_word+\".\",\" loopr.\")\n",
    "y=y.replace(\" \"+freq_word+\",\",\" loopr,\")\n",
    "y=y.replace(\" \"+freq_word+\":\",\" loopr:\")\n",
    "y=y.replace(\" \"+freq_word.capitalize()+\" \",\" loopr \")\n",
    "y=y.replace(\" \"+freq_word.capitalize()+\".\",\" loopr.\")\n",
    "y=y.replace(\" \"+freq_word.capitalize()+\",\",\" loopr,\")\n",
    "y=y.replace(\" \"+freq_word.capitalize()+\":\",\" loopr:\")\n"
   ]
  },
  {
   "cell_type": "code",
   "execution_count": 4,
   "id": "551a1100",
   "metadata": {
    "scrolled": false
   },
   "outputs": [],
   "source": [
    "newfile=open(\"new\",\"w\")\n",
    "newfile.write(y)\n",
    "newfile.close()"
   ]
  }
 ],
 "metadata": {
  "kernelspec": {
   "display_name": "Python 3 (ipykernel)",
   "language": "python",
   "name": "python3"
  },
  "language_info": {
   "codemirror_mode": {
    "name": "ipython",
    "version": 3
   },
   "file_extension": ".py",
   "mimetype": "text/x-python",
   "name": "python",
   "nbconvert_exporter": "python",
   "pygments_lexer": "ipython3",
   "version": "3.9.7"
  }
 },
 "nbformat": 4,
 "nbformat_minor": 5
}
